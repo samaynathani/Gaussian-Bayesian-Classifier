{
 "cells": [
  {
   "cell_type": "markdown",
   "metadata": {},
   "source": [
    "# Gaussian Bayesian Classifier"
   ]
  },
  {
   "cell_type": "markdown",
   "metadata": {},
   "source": [
    "### Mastery Checkpoint 1  \n",
    "CSC 466, Winter 2022  \n",
    "Samay Nathani"
   ]
  },
  {
   "cell_type": "code",
   "execution_count": 2,
   "metadata": {},
   "outputs": [],
   "source": [
    "from pathlib import Path\n",
    "home = str(Path.home())"
   ]
  },
  {
   "cell_type": "code",
   "execution_count": 97,
   "metadata": {},
   "outputs": [
    {
     "name": "stdout",
     "output_type": "stream",
     "text": [
      "The autoreload extension is already loaded. To reload it, use:\n",
      "  %reload_ext autoreload\n"
     ]
    }
   ],
   "source": [
    "%load_ext autoreload\n",
    "%autoreload 2\n",
    "\n",
    "import Lab2_helper"
   ]
  },
  {
   "cell_type": "markdown",
   "metadata": {},
   "source": [
    "Import our dataset  \n",
    "I chose the [Airbnb Listing Dataset from Kaggle](https://www.kaggle.com/dgomonov/new-york-city-airbnb-open-data/version/3)"
   ]
  },
  {
   "cell_type": "code",
   "execution_count": 115,
   "metadata": {},
   "outputs": [],
   "source": [
    "import pandas as pd\n",
    "import numpy as np\n",
    "import math\n",
    "from scipy.stats import norm\n",
    "airbnb = pd.read_csv(\n",
    "    f\"AB_NYC_2019.csv\"\n",
    ")"
   ]
  },
  {
   "cell_type": "markdown",
   "metadata": {},
   "source": [
    "Do some preprocessing like Lab 2"
   ]
  },
  {
   "cell_type": "code",
   "execution_count": 125,
   "metadata": {},
   "outputs": [
    {
     "data": {
      "text/html": [
       "<div>\n",
       "<style scoped>\n",
       "    .dataframe tbody tr th:only-of-type {\n",
       "        vertical-align: middle;\n",
       "    }\n",
       "\n",
       "    .dataframe tbody tr th {\n",
       "        vertical-align: top;\n",
       "    }\n",
       "\n",
       "    .dataframe thead th {\n",
       "        text-align: right;\n",
       "    }\n",
       "</style>\n",
       "<table border=\"1\" class=\"dataframe\">\n",
       "  <thead>\n",
       "    <tr style=\"text-align: right;\">\n",
       "      <th></th>\n",
       "      <th>price</th>\n",
       "      <th>room_type</th>\n",
       "      <th>neighbourhood_group</th>\n",
       "    </tr>\n",
       "  </thead>\n",
       "  <tbody>\n",
       "    <tr>\n",
       "      <th>0</th>\n",
       "      <td>140</td>\n",
       "      <td>Private room</td>\n",
       "      <td>Brooklyn</td>\n",
       "    </tr>\n",
       "    <tr>\n",
       "      <th>1</th>\n",
       "      <td>220</td>\n",
       "      <td>Entire home/apt</td>\n",
       "      <td>Manhattan</td>\n",
       "    </tr>\n",
       "    <tr>\n",
       "      <th>2</th>\n",
       "      <td>150</td>\n",
       "      <td>Private room</td>\n",
       "      <td>Manhattan</td>\n",
       "    </tr>\n",
       "    <tr>\n",
       "      <th>3</th>\n",
       "      <td>80</td>\n",
       "      <td>Entire home/apt</td>\n",
       "      <td>Brooklyn</td>\n",
       "    </tr>\n",
       "    <tr>\n",
       "      <th>4</th>\n",
       "      <td>80</td>\n",
       "      <td>Entire home/apt</td>\n",
       "      <td>Manhattan</td>\n",
       "    </tr>\n",
       "  </tbody>\n",
       "</table>\n",
       "</div>"
      ],
      "text/plain": [
       "   price        room_type neighbourhood_group\n",
       "0    140     Private room            Brooklyn\n",
       "1    220  Entire home/apt           Manhattan\n",
       "2    150     Private room           Manhattan\n",
       "3     80  Entire home/apt            Brooklyn\n",
       "4     80  Entire home/apt           Manhattan"
      ]
     },
     "metadata": {},
     "output_type": "display_data"
    }
   ],
   "source": [
    "features = ['price', 'room_type', 'neighbourhood_group']\n",
    "airbnb = airbnb.loc[:,features]\n",
    "airbnb['price'] = (airbnb['price'] // 10) * 10\n",
    "display(airbnb.head())"
   ]
  },
  {
   "cell_type": "markdown",
   "metadata": {},
   "source": [
    "Defining the Gaussian Bayesian Classifier"
   ]
  },
  {
   "cell_type": "code",
   "execution_count": 166,
   "metadata": {},
   "outputs": [],
   "source": [
    "class GaussianBayes:\n",
    "    \n",
    "    def compute_priors(self, y):\n",
    "        value_counts = y.value_counts().sort_index()\n",
    "        total_values = len(y)\n",
    "        indexes = [y.name+\"=\"+str(v) for v in value_counts.index.tolist()]\n",
    "        priors = dict(zip(indexes, value_counts / total_values))\n",
    "        return priors\n",
    "    \n",
    "    def compute_normal_distribution(self, mean, stddev, x):\n",
    "        exp = (((x-mean) / stddev)**2) * -0.5\n",
    "        denom = ((stddev) * math.sqrt(2 * math.pi))\n",
    "        return (math.e ** exp) / denom\n",
    "    \n",
    "    \n",
    "    # Since we are assuming a normal distribution, this is where we use the mean, std, and variance to calculate the class conditional probability. \n",
    "    def specific_class_conditional(self,x,xv,y,yv):\n",
    "        # todo: replace binning with normal distribution calculations    \n",
    "\n",
    "        likelihoods = {}\n",
    "        priors = {}\n",
    "    \n",
    "        for ux in x.unique():\n",
    "\n",
    "            y_vals = y.loc[x==ux]            \n",
    "            likelihoods[ux] = self.compute_normal_distribution(y_vals.mean(), y_vals.std(), yv)\n",
    "            priors[ux] =len(y_vals) / len(x)\n",
    "\n",
    "        denom = 0\n",
    "        for k in priors.keys():\n",
    "            denom += (priors[k]*likelihoods[k])\n",
    "\n",
    "        classcond = likelihoods[xv]*priors[xv] / denom\n",
    "        return classcond\n",
    "\n",
    "\n",
    "    def class_conditional(self,X,y):\n",
    "        probs = {}\n",
    "\n",
    "        for eachy in y.unique():\n",
    "            for col in X.columns:\n",
    "                for eachx in X[col].unique():\n",
    "                    probs[col + \"=\" + str(eachx) + \"|\" + y.name + \"=\" + str(eachy)] = self.specific_class_conditional(X[col], eachx, y, eachy)\n",
    "        return probs\n",
    "\n",
    "    def posteriors(self,probs,priors,x):\n",
    "        post_probs = {}\n",
    "        denom = 0\n",
    "        for k in priors.keys():\n",
    "            numerator = 1\n",
    "            postkey = \"\"\n",
    "            \n",
    "            for idx in x.index:\n",
    "                postkey += idx + \"=\" + str(x[idx]) + \",\"\n",
    "                probkey = idx + \"=\" + str(x[idx]) + \"|\" + k\n",
    "                \n",
    "                if probkey not in probs:\n",
    "                    numerator *= 0\n",
    "                else:\n",
    "                    numerator *= probs[probkey]\n",
    "            \n",
    "            numerator*=priors[k]\n",
    "            post_probs[k + \"|\" + postkey[:-1]] = numerator\n",
    "            denom+=numerator\n",
    "            \n",
    "        for k, v in post_probs.items():\n",
    "            if denom != 0:\n",
    "                post_probs[k] = v / denom\n",
    "            else:\n",
    "                post_probs[k] = 1 / len(list(priors.keys()))\n",
    "        \n",
    "        return post_probs\n",
    "    \n",
    "    \n",
    "    def train_test_split(self, X,y,test_frac=0.5):\n",
    "        inxs = list(range(len(y)))\n",
    "        np.random.shuffle(inxs)\n",
    "        X = X.iloc[inxs,:]\n",
    "        y = y.iloc[inxs]\n",
    "        xsplit = round(len(X)*test_frac)\n",
    "        ysplit = round(len(y)*test_frac)\n",
    "        Xtrain,ytrain,Xtest,ytest = X.iloc[:xsplit, :], y.iloc[:ysplit], X.iloc[xsplit:, :], y.iloc[ysplit:]\n",
    "        return Xtrain,ytrain,Xtest,ytest\n",
    "\n",
    "    def get_accuracy(self, Xtrain,ytrain,Xtest,ytest):\n",
    "        probs = self.class_conditional(Xtrain, ytrain)\n",
    "        priors = self.compute_priors(ytrain)\n",
    "        ypred = []\n",
    "        for idx in range(len(Xtest)):\n",
    "            posterior = self.posteriors(probs, priors, Xtest.iloc[idx])\n",
    "            k = max(posterior, key=posterior.get)\n",
    "            pred = float((''.join(k.split(\"|\")[0])).split(\"=\")[-1])\n",
    "            ypred.append(pred)\n",
    "        ypred = np.array(ypred)\n",
    "        correct = np.sum(ypred == ytest.to_numpy())\n",
    "        accuracy = correct / len(ytest)\n",
    "        return accuracy\n"
   ]
  },
  {
   "cell_type": "code",
   "execution_count": 167,
   "metadata": {},
   "outputs": [],
   "source": [
    "gb = GaussianBayes()"
   ]
  },
  {
   "cell_type": "code",
   "execution_count": 175,
   "metadata": {},
   "outputs": [],
   "source": [
    "X = airbnb.drop(\"price\", axis=1)[:len(airbnb) // 10]\n",
    "y = airbnb[\"price\"][:len(airbnb) // 10]"
   ]
  },
  {
   "cell_type": "code",
   "execution_count": 176,
   "metadata": {
    "tags": []
   },
   "outputs": [],
   "source": [
    "#fruits = pd.read_csv(f'{home}/csc-466-student/data/fruit_data_with_colours.csv')\n",
    "#Xf = fruits.drop(\"width\", axis=1)\n",
    "#yf = fruits[\"width\"]\n",
    "#gb.class_conditional(Xf, yf)\n",
    "#Xtrain,ytrain,Xtest,ytest = gb.train_test_split(Xf,yf)\n",
    "#accuracy = gb.get_accuracy(Xtrain,ytrain,Xtest,ytest)\n",
    "#accuracy"
   ]
  },
  {
   "cell_type": "markdown",
   "metadata": {},
   "source": [
    "Accuracy of Gaussian-Bayes Classifier"
   ]
  },
  {
   "cell_type": "code",
   "execution_count": 177,
   "metadata": {},
   "outputs": [
    {
     "data": {
      "text/plain": [
       "0.09038854805725971"
      ]
     },
     "execution_count": 177,
     "metadata": {},
     "output_type": "execute_result"
    }
   ],
   "source": [
    "np.random.seed(2)\n",
    "Xtrain,ytrain,Xtest,ytest = gb.train_test_split(X,y)\n",
    "accuracy = gb.get_accuracy(Xtrain,ytrain,Xtest,ytest)\n",
    "accuracy"
   ]
  },
  {
   "cell_type": "markdown",
   "metadata": {},
   "source": [
    "Accuracy of Lab 2 classifier"
   ]
  },
  {
   "cell_type": "code",
   "execution_count": 153,
   "metadata": {},
   "outputs": [
    {
     "data": {
      "text/plain": [
       "0.0"
      ]
     },
     "execution_count": 153,
     "metadata": {},
     "output_type": "execute_result"
    }
   ],
   "source": [
    "np.random.seed(0)\n",
    "Xtrain,ytrain,Xtest,ytest = Lab2_helper.train_test_split(X,y)\n",
    "accuracy = Lab2_helper.exercise_6(Xtrain,ytrain,Xtest,ytest)\n",
    "accuracy"
   ]
  },
  {
   "cell_type": "code",
   "execution_count": null,
   "metadata": {},
   "outputs": [],
   "source": []
  },
  {
   "cell_type": "code",
   "execution_count": null,
   "metadata": {},
   "outputs": [],
   "source": []
  }
 ],
 "metadata": {
  "kernelspec": {
   "display_name": "Python 3",
   "language": "python",
   "name": "python3"
  },
  "language_info": {
   "codemirror_mode": {
    "name": "ipython",
    "version": 3
   },
   "file_extension": ".py",
   "mimetype": "text/x-python",
   "name": "python",
   "nbconvert_exporter": "python",
   "pygments_lexer": "ipython3",
   "version": "3.7.3"
  }
 },
 "nbformat": 4,
 "nbformat_minor": 4
}
