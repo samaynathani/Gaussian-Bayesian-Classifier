{
 "cells": [
  {
   "cell_type": "markdown",
   "metadata": {},
   "source": [
    "# Gaussian Bayes Classifier"
   ]
  },
  {
   "cell_type": "markdown",
   "metadata": {
    "tags": []
   },
   "source": [
    "### Mastery Checkpoint 1  \n",
    "CSC 466, Winter 2022  \n",
    "Samay Nathani"
   ]
  },
  {
   "cell_type": "code",
   "execution_count": 1,
   "metadata": {},
   "outputs": [],
   "source": [
    "from pathlib import Path\n",
    "home = str(Path.home())"
   ]
  },
  {
   "cell_type": "code",
   "execution_count": 2,
   "metadata": {},
   "outputs": [],
   "source": [
    "%load_ext autoreload\n",
    "%autoreload 2\n",
    "\n",
    "import Lab2_helper\n",
    "import gaussian_helper"
   ]
  },
  {
   "cell_type": "markdown",
   "metadata": {},
   "source": [
    "Import our dataset  \n",
    "I chose the [Palantir Stock Price Dataset from Kaggle](https://www.kaggle.com/kalilurrahman/palantir-stock-data-latest-and-updated)"
   ]
  },
  {
   "cell_type": "code",
   "execution_count": 3,
   "metadata": {
    "tags": []
   },
   "outputs": [],
   "source": [
    "import pandas as pd\n",
    "import numpy as np\n",
    "import math\n",
    "from scipy.stats import norm\n",
    "palantir = pd.read_csv(\n",
    "    f\"Palantir_stock_history.csv\"\n",
    ")"
   ]
  },
  {
   "cell_type": "markdown",
   "metadata": {},
   "source": [
    "Do some preprocessing like Lab 2"
   ]
  },
  {
   "cell_type": "code",
   "execution_count": 4,
   "metadata": {},
   "outputs": [
    {
     "data": {
      "text/html": [
       "<div>\n",
       "<style scoped>\n",
       "    .dataframe tbody tr th:only-of-type {\n",
       "        vertical-align: middle;\n",
       "    }\n",
       "\n",
       "    .dataframe tbody tr th {\n",
       "        vertical-align: top;\n",
       "    }\n",
       "\n",
       "    .dataframe thead th {\n",
       "        text-align: right;\n",
       "    }\n",
       "</style>\n",
       "<table border=\"1\" class=\"dataframe\">\n",
       "  <thead>\n",
       "    <tr style=\"text-align: right;\">\n",
       "      <th></th>\n",
       "      <th>Open</th>\n",
       "      <th>High</th>\n",
       "      <th>Low</th>\n",
       "      <th>Close</th>\n",
       "    </tr>\n",
       "  </thead>\n",
       "  <tbody>\n",
       "    <tr>\n",
       "      <th>0</th>\n",
       "      <td>10.0</td>\n",
       "      <td>11.0</td>\n",
       "      <td>9.0</td>\n",
       "      <td>10.0</td>\n",
       "    </tr>\n",
       "    <tr>\n",
       "      <th>1</th>\n",
       "      <td>10.0</td>\n",
       "      <td>10.0</td>\n",
       "      <td>9.0</td>\n",
       "      <td>9.0</td>\n",
       "    </tr>\n",
       "    <tr>\n",
       "      <th>2</th>\n",
       "      <td>9.0</td>\n",
       "      <td>9.0</td>\n",
       "      <td>9.0</td>\n",
       "      <td>9.0</td>\n",
       "    </tr>\n",
       "    <tr>\n",
       "      <th>3</th>\n",
       "      <td>9.0</td>\n",
       "      <td>9.0</td>\n",
       "      <td>9.0</td>\n",
       "      <td>9.0</td>\n",
       "    </tr>\n",
       "    <tr>\n",
       "      <th>4</th>\n",
       "      <td>9.0</td>\n",
       "      <td>10.0</td>\n",
       "      <td>9.0</td>\n",
       "      <td>10.0</td>\n",
       "    </tr>\n",
       "  </tbody>\n",
       "</table>\n",
       "</div>"
      ],
      "text/plain": [
       "   Open  High  Low  Close\n",
       "0  10.0  11.0  9.0   10.0\n",
       "1  10.0  10.0  9.0    9.0\n",
       "2   9.0   9.0  9.0    9.0\n",
       "3   9.0   9.0  9.0    9.0\n",
       "4   9.0  10.0  9.0   10.0"
      ]
     },
     "execution_count": 4,
     "metadata": {},
     "output_type": "execute_result"
    }
   ],
   "source": [
    "features = ['Open', 'High', 'Low', 'Close']\n",
    "palantir = palantir.loc[:,features]\n",
    "palantir['Open'] =  round(palantir['Open'])\n",
    "palantir['High'] = round(palantir['High'])\n",
    "palantir['Low'] =  round(palantir['Low'])\n",
    "palantir['Close'] = round(palantir['Close'])\n",
    "palantir.head()"
   ]
  },
  {
   "cell_type": "markdown",
   "metadata": {},
   "source": [
    "Defining the Gaussian Bayesian Classifier"
   ]
  },
  {
   "cell_type": "code",
   "execution_count": 5,
   "metadata": {},
   "outputs": [],
   "source": [
    "def compute_gaussian(mean, stddev, x):\n",
    "    if stddev == 0:\n",
    "        return 1\n",
    "    exp = (((x-mean) / stddev)**2) * -0.5\n",
    "    denom = ((stddev) * math.sqrt(2 * math.pi))\n",
    "    return (math.e ** exp) / denom\n",
    "\n",
    "def specific_class_conditional(x,xv,y,yv):\n",
    "    likelihoods = {}\n",
    "    priors = {}\n",
    "    denom = 0\n",
    "    for uy in y.unique():\n",
    "        count = y.value_counts()[uy]\n",
    "        if count <= 1:\n",
    "            likelihoods[uy] = 0\n",
    "        else:\n",
    "            likelihoods[uy] = compute_gaussian(x.loc[y==uy].mean(), x.loc[y==uy].std(), xv)\n",
    "        priors[uy] = count / sum(y.value_counts())\n",
    "        denom += (likelihoods[uy] * priors[uy])\n",
    "    if denom != 0:\n",
    "        return likelihoods[yv]*priors[yv] / denom\n",
    "    else:\n",
    "        return 0\n",
    "\n",
    "def class_conditional(X,y):\n",
    "    probs = {}\n",
    "    for eachy in y.unique():\n",
    "        for col in X.columns:\n",
    "            for eachx in X[col].unique():\n",
    "                probs[col + \"=\" + str(eachx) + \"|\" + y.name + \"=\" + str(eachy)] = specific_class_conditional(X[col], eachx, y, eachy)\n",
    "    return probs"
   ]
  },
  {
   "cell_type": "code",
   "execution_count": 6,
   "metadata": {},
   "outputs": [],
   "source": [
    "X = palantir.drop(\"Close\", axis=1)\n",
    "y = palantir[\"Close\"]"
   ]
  },
  {
   "cell_type": "markdown",
   "metadata": {},
   "source": [
    "### Palantir Stock Dataset Accuracy"
   ]
  },
  {
   "cell_type": "markdown",
   "metadata": {},
   "source": [
    "Accuracy of Gaussian-Bayes Classifier"
   ]
  },
  {
   "cell_type": "code",
   "execution_count": 7,
   "metadata": {},
   "outputs": [
    {
     "data": {
      "text/plain": [
       "0.524822695035461"
      ]
     },
     "execution_count": 7,
     "metadata": {},
     "output_type": "execute_result"
    }
   ],
   "source": [
    "np.random.seed(2)\n",
    "Xtrain,ytrain,Xtest,ytest = Lab2_helper.train_test_split(X,y)\n",
    "accuracy = gaussian_helper.get_accuracy(Xtrain,ytrain,Xtest,ytest)\n",
    "accuracy"
   ]
  },
  {
   "cell_type": "markdown",
   "metadata": {},
   "source": [
    "Accuracy of Lab 2 classifier"
   ]
  },
  {
   "cell_type": "code",
   "execution_count": 8,
   "metadata": {},
   "outputs": [
    {
     "data": {
      "text/plain": [
       "0.45390070921985815"
      ]
     },
     "execution_count": 8,
     "metadata": {},
     "output_type": "execute_result"
    }
   ],
   "source": [
    "Xtrain,ytrain,Xtest,ytest = Lab2_helper.train_test_split(X,y)\n",
    "accuracy = Lab2_helper.exercise_6(Xtrain,ytrain,Xtest,ytest)\n",
    "accuracy"
   ]
  },
  {
   "cell_type": "markdown",
   "metadata": {},
   "source": [
    "### Fruit Dataset Accuracy"
   ]
  },
  {
   "cell_type": "markdown",
   "metadata": {},
   "source": [
    "Test our classifer and compare it to the Lab 2 classifier on the fruit dataset"
   ]
  },
  {
   "cell_type": "code",
   "execution_count": 9,
   "metadata": {},
   "outputs": [],
   "source": [
    "fruits = pd.read_csv(f'{home}/csc-466-student/data/fruit_data_with_colours.csv')\n",
    "fruit_features = ['fruit_label', 'mass', 'width', 'height', 'color_score']\n",
    "fruits = fruits.loc[:, fruit_features]\n",
    "Xf = fruits.drop(\"fruit_label\", axis=1)\n",
    "yf = fruits[\"fruit_label\"]"
   ]
  },
  {
   "cell_type": "markdown",
   "metadata": {},
   "source": [
    "Accuracy of Gaussian Bayes classifier on fruit dataset"
   ]
  },
  {
   "cell_type": "code",
   "execution_count": 10,
   "metadata": {},
   "outputs": [
    {
     "data": {
      "text/plain": [
       "0.3793103448275862"
      ]
     },
     "execution_count": 10,
     "metadata": {},
     "output_type": "execute_result"
    }
   ],
   "source": [
    "Xftrain,yftrain,Xftest,yftest = Lab2_helper.train_test_split(Xf,yf)\n",
    "faccuracy = gaussian_helper.get_accuracy(Xftrain,yftrain,Xftest,yftest)\n",
    "faccuracy"
   ]
  },
  {
   "cell_type": "markdown",
   "metadata": {},
   "source": [
    "Accuracy of Lab 2 classifier"
   ]
  },
  {
   "cell_type": "code",
   "execution_count": 11,
   "metadata": {},
   "outputs": [
    {
     "data": {
      "text/plain": [
       "0.3103448275862069"
      ]
     },
     "execution_count": 11,
     "metadata": {},
     "output_type": "execute_result"
    }
   ],
   "source": [
    "Xftrain,yftrain,Xftest,yftest = Lab2_helper.train_test_split(Xf,yf)\n",
    "faccuracy = Lab2_helper.exercise_6(Xftrain,yftrain,Xftest,yftest)\n",
    "faccuracy"
   ]
  },
  {
   "cell_type": "markdown",
   "metadata": {
    "tags": []
   },
   "source": [
    "### Permutation Feature Importance"
   ]
  },
  {
   "cell_type": "markdown",
   "metadata": {},
   "source": [
    "Feature importance on Palantir Stock dataset with Lab 2 classifier"
   ]
  },
  {
   "cell_type": "code",
   "execution_count": 12,
   "metadata": {},
   "outputs": [
    {
     "data": {
      "text/plain": [
       "{'Open': -0.014285714285714258,\n",
       " 'High': 0.30000000000000004,\n",
       " 'Low': 0.1071428571428572}"
      ]
     },
     "execution_count": 12,
     "metadata": {},
     "output_type": "execute_result"
    }
   ],
   "source": [
    "Xtrain,ytrain,Xtest,ytest = Lab2_helper.train_test_split(X[:len(X) // 10], y[:len(y) // 10])\n",
    "Lab2_helper.test_based_feature_importance(Xtrain,ytrain,Xtest,ytest)"
   ]
  },
  {
   "cell_type": "code",
   "execution_count": 13,
   "metadata": {},
   "outputs": [
    {
     "data": {
      "text/plain": [
       "{'Open': 0.028571428571428602,\n",
       " 'High': -0.039285714285714264,\n",
       " 'Low': 0.16071428571428575}"
      ]
     },
     "execution_count": 13,
     "metadata": {},
     "output_type": "execute_result"
    }
   ],
   "source": [
    "Lab2_helper.train_based_feature_importance(Xtrain,ytrain,Xtest,ytest)"
   ]
  },
  {
   "cell_type": "markdown",
   "metadata": {},
   "source": [
    "Feature importance on Palantir Stock data with Gaussian Bayes classifier"
   ]
  },
  {
   "cell_type": "code",
   "execution_count": 14,
   "metadata": {},
   "outputs": [
    {
     "data": {
      "text/plain": [
       "{'Open': -0.014285714285714268,\n",
       " 'High': 0.3285714285714286,\n",
       " 'Low': 0.050000000000000044}"
      ]
     },
     "execution_count": 14,
     "metadata": {},
     "output_type": "execute_result"
    }
   ],
   "source": [
    "gaussian_helper.test_based_feature_importance(Xtrain,ytrain,Xtest,ytest)"
   ]
  },
  {
   "cell_type": "code",
   "execution_count": 15,
   "metadata": {},
   "outputs": [
    {
     "data": {
      "text/plain": [
       "{'Open': 0.0035714285714286004,\n",
       " 'High': -0.01785714285714283,\n",
       " 'Low': 0.1535714285714286}"
      ]
     },
     "execution_count": 15,
     "metadata": {},
     "output_type": "execute_result"
    }
   ],
   "source": [
    "gaussian_helper.train_based_feature_importance(Xtrain,ytrain,Xtest,ytest)"
   ]
  },
  {
   "cell_type": "markdown",
   "metadata": {},
   "source": [
    "feature importance on fruit dataset with Lab 2 classifier"
   ]
  },
  {
   "cell_type": "code",
   "execution_count": 16,
   "metadata": {},
   "outputs": [
    {
     "data": {
      "text/plain": [
       "{'mass': 0.0, 'width': 0.0, 'height': 0.0, 'color_score': 0.0}"
      ]
     },
     "execution_count": 16,
     "metadata": {},
     "output_type": "execute_result"
    }
   ],
   "source": [
    "np.random.seed(1)\n",
    "Xftrain,yftrain,Xftest,yftest = Lab2_helper.train_test_split(Xf[:len(Xf) // 2],yf[:len(yf) // 2])\n",
    "Lab2_helper.test_based_feature_importance(Xftrain,yftrain,Xftest,yftest)"
   ]
  },
  {
   "cell_type": "code",
   "execution_count": 17,
   "metadata": {},
   "outputs": [
    {
     "data": {
      "text/plain": [
       "{'mass': 0.0, 'width': 0.0, 'height': 0.0, 'color_score': 0.0}"
      ]
     },
     "execution_count": 17,
     "metadata": {},
     "output_type": "execute_result"
    }
   ],
   "source": [
    "Lab2_helper.train_based_feature_importance(Xftrain,yftrain,Xftest,yftest)"
   ]
  },
  {
   "cell_type": "markdown",
   "metadata": {},
   "source": [
    "Feature importance on Fruit dataset with Gaussian Bayes classifier"
   ]
  },
  {
   "cell_type": "code",
   "execution_count": 18,
   "metadata": {},
   "outputs": [
    {
     "data": {
      "text/plain": [
       "{'mass': 0.0, 'width': 0.0, 'height': 0.0, 'color_score': 0.0}"
      ]
     },
     "execution_count": 18,
     "metadata": {},
     "output_type": "execute_result"
    }
   ],
   "source": [
    "Xftrain,yftrain,Xftest,yftest = Lab2_helper.train_test_split(Xf[:len(Xf) // 2],yf[:len(yf) // 2])\n",
    "gaussian_helper.test_based_feature_importance(Xftrain,yftrain,Xftest,yftest)"
   ]
  },
  {
   "cell_type": "code",
   "execution_count": 19,
   "metadata": {},
   "outputs": [
    {
     "data": {
      "text/plain": [
       "{'mass': 0.0, 'width': 0.0, 'height': 0.0, 'color_score': 0.0}"
      ]
     },
     "execution_count": 19,
     "metadata": {},
     "output_type": "execute_result"
    }
   ],
   "source": [
    "gaussian_helper.train_based_feature_importance(Xftrain,yftrain,Xftest,yftest)"
   ]
  },
  {
   "cell_type": "markdown",
   "metadata": {
    "tags": []
   },
   "source": [
    "### Ethical Analysis on another dataset"
   ]
  },
  {
   "cell_type": "markdown",
   "metadata": {},
   "source": [
    "I chose the [AirBnb NYC Listing](https://www.kaggle.com/dgomonov/new-york-city-airbnb-open-data) dataset from Kaggle"
   ]
  },
  {
   "cell_type": "code",
   "execution_count": 13,
   "metadata": {},
   "outputs": [],
   "source": [
    "airbnb = pd.read_csv(\n",
    "    f\"AB_NYC_2019.csv\"\n",
    ")"
   ]
  },
  {
   "cell_type": "code",
   "execution_count": 15,
   "metadata": {},
   "outputs": [],
   "source": [
    "features = ['neighbourhood_group', 'room_type', 'price']\n",
    "airbnb = airbnb.loc[:,features]"
   ]
  },
  {
   "cell_type": "markdown",
   "metadata": {},
   "source": [
    "Label encoding our features"
   ]
  },
  {
   "cell_type": "code",
   "execution_count": 22,
   "metadata": {},
   "outputs": [],
   "source": [
    "airbnb['neighbourhood_group'] = airbnb['neighbourhood_group'].astype('category')\n",
    "airbnb['room_type'] = airbnb['room_type'].astype('category')\n",
    "#airbnb['latitude'] = round(airbnb['latitude'], 1)\n",
    "airbnb['price'] = (airbnb['price'] // 50) * 50"
   ]
  },
  {
   "cell_type": "code",
   "execution_count": 23,
   "metadata": {},
   "outputs": [],
   "source": [
    "airbnb['neighborhood_cat'] = airbnb['neighbourhood_group'].cat.codes\n",
    "airbnb['room_cat'] = airbnb['room_type'].cat.codes"
   ]
  },
  {
   "cell_type": "code",
   "execution_count": 24,
   "metadata": {},
   "outputs": [],
   "source": [
    "X = airbnb.loc[:, ['neighborhood_cat', 'room_cat']]\n",
    "y = airbnb['price']"
   ]
  },
  {
   "cell_type": "code",
   "execution_count": 26,
   "metadata": {},
   "outputs": [],
   "source": [
    "#class_conditional(X[:len(X) // 10],y[:len(y) // 10])"
   ]
  },
  {
   "cell_type": "code",
   "execution_count": 28,
   "metadata": {},
   "outputs": [
    {
     "data": {
      "text/plain": [
       "0.10369370474904896"
      ]
     },
     "execution_count": 28,
     "metadata": {},
     "output_type": "execute_result"
    }
   ],
   "source": [
    "Xtrain,ytrain,Xtest,ytest = Lab2_helper.train_test_split(X[:len(X)],y[:len(y)])\n",
    "accuracy = gaussian_helper.get_accuracy(Xtrain,ytrain,Xtest,ytest)\n",
    "accuracy"
   ]
  },
  {
   "cell_type": "code",
   "execution_count": null,
   "metadata": {},
   "outputs": [],
   "source": []
  },
  {
   "cell_type": "code",
   "execution_count": null,
   "metadata": {},
   "outputs": [],
   "source": [
    "X_facebook, y_facebook = facebook.drop(\"Rating\")"
   ]
  },
  {
   "cell_type": "code",
   "execution_count": null,
   "metadata": {},
   "outputs": [],
   "source": []
  }
 ],
 "metadata": {
  "kernelspec": {
   "display_name": "Python 3",
   "language": "python",
   "name": "python3"
  },
  "language_info": {
   "codemirror_mode": {
    "name": "ipython",
    "version": 3
   },
   "file_extension": ".py",
   "mimetype": "text/x-python",
   "name": "python",
   "nbconvert_exporter": "python",
   "pygments_lexer": "ipython3",
   "version": "3.7.3"
  }
 },
 "nbformat": 4,
 "nbformat_minor": 4
}
