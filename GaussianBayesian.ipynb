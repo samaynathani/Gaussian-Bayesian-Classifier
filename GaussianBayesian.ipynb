{
 "cells": [
  {
   "cell_type": "markdown",
   "metadata": {},
   "source": [
    "# Gaussian Bayesian Classifier"
   ]
  },
  {
   "cell_type": "markdown",
   "metadata": {},
   "source": [
    "### Mastery Checkpoint 1  \n",
    "CSC 466, Winter 2022  \n",
    "Samay Nathani"
   ]
  },
  {
   "cell_type": "code",
   "execution_count": 45,
   "metadata": {},
   "outputs": [],
   "source": [
    "from pathlib import Path\n",
    "home = str(Path.home())"
   ]
  },
  {
   "cell_type": "code",
   "execution_count": 46,
   "metadata": {},
   "outputs": [
    {
     "name": "stdout",
     "output_type": "stream",
     "text": [
      "The autoreload extension is already loaded. To reload it, use:\n",
      "  %reload_ext autoreload\n"
     ]
    }
   ],
   "source": [
    "%load_ext autoreload\n",
    "%autoreload 2\n",
    "\n",
    "import Lab2_helper"
   ]
  },
  {
   "cell_type": "markdown",
   "metadata": {},
   "source": [
    "Import our datasets"
   ]
  },
  {
   "cell_type": "code",
   "execution_count": 47,
   "metadata": {},
   "outputs": [],
   "source": [
    "import pandas as pd\n",
    "import numpy as np\n",
    "import math\n",
    "titanic_df = pd.read_csv(\n",
    "    f\"{home}/csc-466-student/data/titanic.csv\"\n",
    ")"
   ]
  },
  {
   "cell_type": "markdown",
   "metadata": {},
   "source": [
    "Do some preprocessing like Lab 2"
   ]
  },
  {
   "cell_type": "code",
   "execution_count": 48,
   "metadata": {},
   "outputs": [
    {
     "data": {
      "text/html": [
       "<div>\n",
       "<style scoped>\n",
       "    .dataframe tbody tr th:only-of-type {\n",
       "        vertical-align: middle;\n",
       "    }\n",
       "\n",
       "    .dataframe tbody tr th {\n",
       "        vertical-align: top;\n",
       "    }\n",
       "\n",
       "    .dataframe thead th {\n",
       "        text-align: right;\n",
       "    }\n",
       "</style>\n",
       "<table border=\"1\" class=\"dataframe\">\n",
       "  <thead>\n",
       "    <tr style=\"text-align: right;\">\n",
       "      <th></th>\n",
       "      <th>Pclass</th>\n",
       "      <th>Survived</th>\n",
       "      <th>Sex</th>\n",
       "      <th>Age</th>\n",
       "    </tr>\n",
       "  </thead>\n",
       "  <tbody>\n",
       "    <tr>\n",
       "      <th>0</th>\n",
       "      <td>3</td>\n",
       "      <td>0</td>\n",
       "      <td>male</td>\n",
       "      <td>22.0</td>\n",
       "    </tr>\n",
       "    <tr>\n",
       "      <th>1</th>\n",
       "      <td>1</td>\n",
       "      <td>1</td>\n",
       "      <td>female</td>\n",
       "      <td>38.0</td>\n",
       "    </tr>\n",
       "    <tr>\n",
       "      <th>2</th>\n",
       "      <td>3</td>\n",
       "      <td>1</td>\n",
       "      <td>female</td>\n",
       "      <td>26.0</td>\n",
       "    </tr>\n",
       "    <tr>\n",
       "      <th>3</th>\n",
       "      <td>1</td>\n",
       "      <td>1</td>\n",
       "      <td>female</td>\n",
       "      <td>35.0</td>\n",
       "    </tr>\n",
       "    <tr>\n",
       "      <th>4</th>\n",
       "      <td>3</td>\n",
       "      <td>0</td>\n",
       "      <td>male</td>\n",
       "      <td>35.0</td>\n",
       "    </tr>\n",
       "  </tbody>\n",
       "</table>\n",
       "</div>"
      ],
      "text/plain": [
       "   Pclass  Survived     Sex   Age\n",
       "0       3         0    male  22.0\n",
       "1       1         1  female  38.0\n",
       "2       3         1  female  26.0\n",
       "3       1         1  female  35.0\n",
       "4       3         0    male  35.0"
      ]
     },
     "metadata": {},
     "output_type": "display_data"
    }
   ],
   "source": [
    "features = ['Pclass','Survived','Sex','Age']\n",
    "titanic_df = titanic_df.loc[:,features]\n",
    "display(titanic_df.head())\n",
    "titanic_df.loc[:,'Pclass']=titanic_df['Pclass'].fillna(titanic_df['Pclass'].mode()).astype(int)\n",
    "titanic_df.loc[:,'Age']=titanic_df['Age'].fillna(titanic_df['Age'].median())\n",
    "titanic_df.loc[:,'Age']=(titanic_df['Age']/10).astype(str).str[0].astype(int)*10\n",
    "titranic_df = titanic_df.dropna()\n",
    "X = titanic_df.drop(\"Survived\",axis=1)\n",
    "y = titanic_df[\"Survived\"]\n",
    "#probs = Lab2_helper.class_conditional(X,y)\n",
    "#priors = Lab2_helper.compute_priors(y)\n",
    "x = titanic_df.drop(\"Survived\",axis=1).loc[2]\n",
    "#post_probs = Lab2_helper.posteriors(probs,priors,x)"
   ]
  },
  {
   "cell_type": "markdown",
   "metadata": {},
   "source": [
    "Defining the Gaussian Bayesian Classifier"
   ]
  },
  {
   "cell_type": "code",
   "execution_count": 90,
   "metadata": {},
   "outputs": [],
   "source": [
    "class GaussianBayes:\n",
    "    \n",
    "    def compute_priors(self, y):\n",
    "        value_counts = y.value_counts().sort_index()\n",
    "        total_values = len(y)\n",
    "        indexes = [y.name+\"=\"+str(v) for v in value_counts.index.tolist()]\n",
    "        priors = dict(zip(indexes, value_counts / total_values))\n",
    "        return priors\n",
    "    \n",
    "    def compute_normal_distribution(self, mean, stddev, x):\n",
    "        exp = -1*(x-mean)**2 / 2*(stddev**2)\n",
    "        base = math.e / (stddev) ** math.sqrt(2 * math.pi)\n",
    "        return base ** exp\n",
    "    \n",
    "    \n",
    "    # Since we are assuming a normal distribution, this is where we use the mean, std, and variance to calculate the class conditional probability. \n",
    "    def specific_class_conditional(self,x,xv,y,yv):\n",
    "        # todo: replace binning with normal distribution calculations\n",
    "        likelihoods = {}\n",
    "        priors = {}\n",
    "        \n",
    "        for ux in x.unique():\n",
    "            y_vals = y.loc[x==ux]\n",
    "            prob = self.compute_normal_distribution(y_vals.mean(), y_vals.std(), yv)\n",
    "            likelihoods[ux] = prob\n",
    "            priors[ux] = len(y_vals) / y\n",
    "\n",
    "        denom = 0\n",
    "        \n",
    "        for k in priors.keys():\n",
    "            denom += (priors[k]*likelihoods[k])\n",
    "\n",
    "        print(likelihoods, priors)\n",
    "        classcond = likelihoods[xv]*priors[xv] / denom\n",
    "        return classcond\n",
    "\n",
    "\n",
    "    def class_conditional(self,X,y):\n",
    "        probs = {}\n",
    "        \n",
    "        for eachy in y.unique():\n",
    "            for col in X.columns:\n",
    "                for eachx in X[col].unique():\n",
    "                    probs[col + \"=\" + str(eachx) + \"|\" + y.name + \"=\" + str(eachy)] = specific_class_conditional(X[col], eachx, y, eachy)\n",
    "        return probs\n",
    "\n",
    "    def posteriors(self,probs,priors,x):\n",
    "        post_probs = {}\n",
    "        denom = 0\n",
    "        for k in priors.keys():\n",
    "            numerator = 1\n",
    "            postkey = \"\"\n",
    "            \n",
    "            for idx in x.index:\n",
    "                postkey += idx + \"=\" + str(x[idx]) + \",\"\n",
    "                probkey = idx + \"=\" + str(x[idx]) + \"|\" + k\n",
    "                \n",
    "                if probkey not in probs:\n",
    "                    numerator *= 0\n",
    "                else:\n",
    "                    numerator *= probs[probkey]\n",
    "            \n",
    "            numerator*=priors[k]\n",
    "            post_probs[k + \"|\" + postkey[:-1]] = numerator\n",
    "            denom+=numerator\n",
    "            \n",
    "        for k, v in post_probs.items():\n",
    "            if denom != 0:\n",
    "                post_probs[k] = v / denom\n",
    "            else:\n",
    "                post_probs[k] = 1 / len(list(priors.keys()))\n",
    "        \n",
    "        return post_probs\n"
   ]
  },
  {
   "cell_type": "code",
   "execution_count": 91,
   "metadata": {},
   "outputs": [],
   "source": [
    "gb = GaussianBayes()"
   ]
  },
  {
   "cell_type": "code",
   "execution_count": 92,
   "metadata": {},
   "outputs": [
    {
     "name": "stdout",
     "output_type": "stream",
     "text": [
      "{'male': 0.9908703373000626, 'female': 0.8502683426821895} {'male': 0        inf\n",
      "1      577.0\n",
      "2      577.0\n",
      "3      577.0\n",
      "4        inf\n",
      "       ...  \n",
      "886      inf\n",
      "887    577.0\n",
      "888      inf\n",
      "889    577.0\n",
      "890      inf\n",
      "Name: Survived, Length: 891, dtype: float64, 'female': 0        inf\n",
      "1      314.0\n",
      "2      314.0\n",
      "3      314.0\n",
      "4        inf\n",
      "       ...  \n",
      "886      inf\n",
      "887    314.0\n",
      "888      inf\n",
      "889    314.0\n",
      "890      inf\n",
      "Name: Survived, Length: 891, dtype: float64}\n"
     ]
    }
   ],
   "source": [
    "prob = gb.specific_class_conditional(titanic_df['Sex'],'female',titanic_df['Survived'],0)"
   ]
  },
  {
   "cell_type": "code",
   "execution_count": null,
   "metadata": {},
   "outputs": [],
   "source": []
  },
  {
   "cell_type": "code",
   "execution_count": null,
   "metadata": {},
   "outputs": [],
   "source": []
  }
 ],
 "metadata": {
  "kernelspec": {
   "display_name": "Python 3",
   "language": "python",
   "name": "python3"
  },
  "language_info": {
   "codemirror_mode": {
    "name": "ipython",
    "version": 3
   },
   "file_extension": ".py",
   "mimetype": "text/x-python",
   "name": "python",
   "nbconvert_exporter": "python",
   "pygments_lexer": "ipython3",
   "version": "3.7.3"
  }
 },
 "nbformat": 4,
 "nbformat_minor": 4
}
