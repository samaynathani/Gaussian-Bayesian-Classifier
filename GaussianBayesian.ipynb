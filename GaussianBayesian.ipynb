{
 "cells": [
  {
   "cell_type": "markdown",
   "metadata": {},
   "source": [
    "# Gaussian Bayes Classifier"
   ]
  },
  {
   "cell_type": "markdown",
   "metadata": {
    "tags": []
   },
   "source": [
    "### Mastery Checkpoint 1  \n",
    "CSC 466, Winter 2022  \n",
    "Samay Nathani"
   ]
  },
  {
   "cell_type": "code",
   "execution_count": 1,
   "metadata": {},
   "outputs": [],
   "source": [
    "from pathlib import Path\n",
    "home = str(Path.home())"
   ]
  },
  {
   "cell_type": "code",
   "execution_count": 2,
   "metadata": {},
   "outputs": [],
   "source": [
    "%load_ext autoreload\n",
    "%autoreload 2\n",
    "\n",
    "import Lab2_helper"
   ]
  },
  {
   "cell_type": "markdown",
   "metadata": {},
   "source": [
    "Import our dataset  \n",
    "I chose the [Palantir Stock Price Dataset from Kaggle](https://www.kaggle.com/kalilurrahman/palantir-stock-data-latest-and-updated)"
   ]
  },
  {
   "cell_type": "code",
   "execution_count": 3,
   "metadata": {
    "tags": []
   },
   "outputs": [],
   "source": [
    "import pandas as pd\n",
    "import numpy as np\n",
    "import math\n",
    "from scipy.stats import norm\n",
    "palantir = pd.read_csv(\n",
    "    f\"Palantir_stock_history.csv\"\n",
    ")"
   ]
  },
  {
   "cell_type": "markdown",
   "metadata": {},
   "source": [
    "Do some preprocessing like Lab 2"
   ]
  },
  {
   "cell_type": "code",
   "execution_count": 4,
   "metadata": {},
   "outputs": [
    {
     "data": {
      "text/html": [
       "<div>\n",
       "<style scoped>\n",
       "    .dataframe tbody tr th:only-of-type {\n",
       "        vertical-align: middle;\n",
       "    }\n",
       "\n",
       "    .dataframe tbody tr th {\n",
       "        vertical-align: top;\n",
       "    }\n",
       "\n",
       "    .dataframe thead th {\n",
       "        text-align: right;\n",
       "    }\n",
       "</style>\n",
       "<table border=\"1\" class=\"dataframe\">\n",
       "  <thead>\n",
       "    <tr style=\"text-align: right;\">\n",
       "      <th></th>\n",
       "      <th>Open</th>\n",
       "      <th>High</th>\n",
       "      <th>Low</th>\n",
       "      <th>Close</th>\n",
       "    </tr>\n",
       "  </thead>\n",
       "  <tbody>\n",
       "    <tr>\n",
       "      <th>0</th>\n",
       "      <td>10.0</td>\n",
       "      <td>11.0</td>\n",
       "      <td>9.0</td>\n",
       "      <td>10.0</td>\n",
       "    </tr>\n",
       "    <tr>\n",
       "      <th>1</th>\n",
       "      <td>10.0</td>\n",
       "      <td>10.0</td>\n",
       "      <td>9.0</td>\n",
       "      <td>9.0</td>\n",
       "    </tr>\n",
       "    <tr>\n",
       "      <th>2</th>\n",
       "      <td>9.0</td>\n",
       "      <td>9.0</td>\n",
       "      <td>9.0</td>\n",
       "      <td>9.0</td>\n",
       "    </tr>\n",
       "    <tr>\n",
       "      <th>3</th>\n",
       "      <td>9.0</td>\n",
       "      <td>9.0</td>\n",
       "      <td>9.0</td>\n",
       "      <td>9.0</td>\n",
       "    </tr>\n",
       "    <tr>\n",
       "      <th>4</th>\n",
       "      <td>9.0</td>\n",
       "      <td>10.0</td>\n",
       "      <td>9.0</td>\n",
       "      <td>10.0</td>\n",
       "    </tr>\n",
       "  </tbody>\n",
       "</table>\n",
       "</div>"
      ],
      "text/plain": [
       "   Open  High  Low  Close\n",
       "0  10.0  11.0  9.0   10.0\n",
       "1  10.0  10.0  9.0    9.0\n",
       "2   9.0   9.0  9.0    9.0\n",
       "3   9.0   9.0  9.0    9.0\n",
       "4   9.0  10.0  9.0   10.0"
      ]
     },
     "execution_count": 4,
     "metadata": {},
     "output_type": "execute_result"
    }
   ],
   "source": [
    "features = ['Open', 'High', 'Low', 'Close']\n",
    "palantir = palantir.loc[:,features]\n",
    "palantir['Open'] =  round(palantir['Open'])\n",
    "palantir['High'] = round(palantir['High'])\n",
    "palantir['Low'] =  round(palantir['Low'])\n",
    "palantir['Close'] = round(palantir['Close'])\n",
    "palantir.head()"
   ]
  },
  {
   "cell_type": "markdown",
   "metadata": {},
   "source": [
    "Defining the Gaussian Bayesian Classifier"
   ]
  },
  {
   "cell_type": "code",
   "execution_count": 13,
   "metadata": {},
   "outputs": [],
   "source": [
    "class GaussianBayes:\n",
    "    \n",
    "    def compute_gaussian(self, mean, stddev, x):\n",
    "        if stddev == 0:\n",
    "            return 1\n",
    "        exp = (((x-mean) / stddev)**2) * -0.5\n",
    "        denom = ((stddev) * math.sqrt(2 * math.pi))\n",
    "        return (math.e ** exp) / denom\n",
    "    \n",
    "    \n",
    "    # Since we are assuming a normal distribution, this is where we use the mean, std, and variance to calculate the class conditional probability. \n",
    "    def specific_class_conditional(self,x,xv,y,yv):\n",
    "        likelihoods = {}\n",
    "        priors = {}\n",
    "        denom = 0\n",
    "        for uy in y.unique():\n",
    "            count = y.value_counts()[uy]\n",
    "            if count <= 1:\n",
    "                likelihoods[uy] = 0\n",
    "            else:\n",
    "                likelihoods[uy] = self.compute_gaussian(x.loc[y==uy].mean(), x.loc[y==uy].std(), xv)\n",
    "            \n",
    "            priors[uy] = count / sum(y.value_counts())\n",
    "            denom += (likelihoods[uy] * priors[uy])\n",
    "        if denom != 0:\n",
    "            return likelihoods[yv]*priors[yv] / denom\n",
    "        else:\n",
    "            return 0\n",
    "\n",
    "    def class_conditional(self,X,y):\n",
    "        probs = {}\n",
    "\n",
    "        for eachy in y.unique():\n",
    "            for col in X.columns:\n",
    "                for eachx in X[col].unique():\n",
    "                    probs[col + \"=\" + str(eachx) + \"|\" + y.name + \"=\" + str(eachy)] = self.specific_class_conditional(X[col], eachx, y, eachy)\n",
    "        return probs\n",
    "\n",
    "    def get_accuracy(self, Xtrain,ytrain,Xtest,ytest):\n",
    "        probs = self.class_conditional(Xtrain, ytrain)\n",
    "        priors = Lab2_helper.compute_priors(ytrain)\n",
    "        ypred = []\n",
    "        for idx in range(len(Xtest)):\n",
    "            posterior = Lab2_helper.posteriors(probs, priors, Xtest.iloc[idx])\n",
    "            k = max(posterior, key=posterior.get)\n",
    "            pred = float((''.join(k.split(\"|\")[0])).split(\"=\")[-1])\n",
    "            ypred.append(pred)\n",
    "        ypred = np.array(ypred)\n",
    "        correct = np.sum(ypred == ytest.to_numpy())\n",
    "        accuracy = correct / len(ytest)\n",
    "        return accuracy\n"
   ]
  },
  {
   "cell_type": "code",
   "execution_count": 14,
   "metadata": {},
   "outputs": [],
   "source": [
    "gb = GaussianBayes()"
   ]
  },
  {
   "cell_type": "code",
   "execution_count": 15,
   "metadata": {},
   "outputs": [],
   "source": [
    "X = palantir.drop(\"Close\", axis=1)\n",
    "y = palantir[\"Close\"]"
   ]
  },
  {
   "cell_type": "markdown",
   "metadata": {},
   "source": [
    "### Palantir Stock Dataset Accuracy"
   ]
  },
  {
   "cell_type": "markdown",
   "metadata": {},
   "source": [
    "Accuracy of Gaussian-Bayes Classifier"
   ]
  },
  {
   "cell_type": "code",
   "execution_count": 23,
   "metadata": {},
   "outputs": [
    {
     "data": {
      "text/plain": [
       "0.475177304964539"
      ]
     },
     "execution_count": 23,
     "metadata": {},
     "output_type": "execute_result"
    }
   ],
   "source": [
    "np.random.seed(2)\n",
    "Xtrain,ytrain,Xtest,ytest = Lab2_helper.train_test_split(X,y)\n",
    "accuracy = gb.get_accuracy(Xtrain,ytrain,Xtest,ytest)\n",
    "accuracy"
   ]
  },
  {
   "cell_type": "markdown",
   "metadata": {},
   "source": [
    "Accuracy of Lab 2 classifier"
   ]
  },
  {
   "cell_type": "code",
   "execution_count": 28,
   "metadata": {},
   "outputs": [
    {
     "data": {
      "text/plain": [
       "0.46808510638297873"
      ]
     },
     "execution_count": 28,
     "metadata": {},
     "output_type": "execute_result"
    }
   ],
   "source": [
    "Xtrain,ytrain,Xtest,ytest = Lab2_helper.train_test_split(X,y)\n",
    "accuracy = Lab2_helper.exercise_6(Xtrain,ytrain,Xtest,ytest)\n",
    "accuracy"
   ]
  },
  {
   "cell_type": "markdown",
   "metadata": {},
   "source": [
    "### Fruit Dataset Accuracy"
   ]
  },
  {
   "cell_type": "markdown",
   "metadata": {},
   "source": [
    "Test our classifer and compare it to the Lab 2 classifier on the fruit dataset"
   ]
  },
  {
   "cell_type": "code",
   "execution_count": 29,
   "metadata": {},
   "outputs": [],
   "source": [
    "fruits = pd.read_csv(f'{home}/csc-466-student/data/fruit_data_with_colours.csv')\n",
    "fruit_features = ['fruit_label', 'mass', 'width', 'height', 'color_score']\n",
    "fruits = fruits.loc[:, fruit_features]\n",
    "Xf = fruits.drop(\"fruit_label\", axis=1)\n",
    "yf = fruits[\"fruit_label\"]"
   ]
  },
  {
   "cell_type": "markdown",
   "metadata": {},
   "source": [
    "Accuracy of Gaussian Bayes classifier on fruit dataset"
   ]
  },
  {
   "cell_type": "code",
   "execution_count": 30,
   "metadata": {},
   "outputs": [
    {
     "data": {
      "text/plain": [
       "0.3448275862068966"
      ]
     },
     "execution_count": 30,
     "metadata": {},
     "output_type": "execute_result"
    }
   ],
   "source": [
    "Xftrain,yftrain,Xftest,yftest = Lab2_helper.train_test_split(Xf,yf)\n",
    "faccuracy = gb.get_accuracy(Xftrain,yftrain,Xftest,yftest)\n",
    "faccuracy"
   ]
  },
  {
   "cell_type": "markdown",
   "metadata": {},
   "source": [
    "Accuracy of Lab 2 classifier"
   ]
  },
  {
   "cell_type": "code",
   "execution_count": 31,
   "metadata": {},
   "outputs": [
    {
     "data": {
      "text/plain": [
       "0.3448275862068966"
      ]
     },
     "execution_count": 31,
     "metadata": {},
     "output_type": "execute_result"
    }
   ],
   "source": [
    "Xftrain,yftrain,Xftest,yftest = Lab2_helper.train_test_split(Xf,yf)\n",
    "faccuracy = Lab2_helper.exercise_6(Xftrain,yftrain,Xftest,yftest)\n",
    "faccuracy"
   ]
  },
  {
   "cell_type": "markdown",
   "metadata": {},
   "source": [
    "### Permutation Feature Importance"
   ]
  },
  {
   "cell_type": "markdown",
   "metadata": {},
   "source": [
    "Feature importance on Palantir Stock dataset with Lab 2 classifier"
   ]
  },
  {
   "cell_type": "code",
   "execution_count": 35,
   "metadata": {},
   "outputs": [
    {
     "data": {
      "text/plain": [
       "{'Open': 0.02857142857142857,\n",
       " 'High': 0.22142857142857145,\n",
       " 'Low': 0.06428571428571431}"
      ]
     },
     "execution_count": 35,
     "metadata": {},
     "output_type": "execute_result"
    }
   ],
   "source": [
    "Xtrain,ytrain,Xtest,ytest = Lab2_helper.train_test_split(X[:len(X) // 10], y[:len(y) // 10])\n",
    "Lab2_helper.test_based_feature_importance(Xtrain,ytrain,Xtest,ytest)"
   ]
  },
  {
   "cell_type": "code",
   "execution_count": 36,
   "metadata": {},
   "outputs": [
    {
     "data": {
      "text/plain": [
       "{'Open': -0.0392857142857143,\n",
       " 'High': 0.0642857142857143,\n",
       " 'Low': 0.15714285714285717}"
      ]
     },
     "execution_count": 36,
     "metadata": {},
     "output_type": "execute_result"
    }
   ],
   "source": [
    "Lab2_helper.train_based_feature_importance(Xtrain,ytrain,Xtest,ytest)"
   ]
  },
  {
   "cell_type": "markdown",
   "metadata": {},
   "source": [
    "Feature importance on Palantir Stock data with Gaussian Bayes classifier"
   ]
  },
  {
   "cell_type": "markdown",
   "metadata": {},
   "source": [
    "feature importance on fruit dataset with Lab 2 classifier"
   ]
  },
  {
   "cell_type": "code",
   "execution_count": null,
   "metadata": {},
   "outputs": [],
   "source": [
    "np.random.seed(1)\n",
    "Xftrain,yftrain,Xftest,yftest = Lab2_helper.train_test_split(Xf[:len(Xf) // 2],yf[:len(yf) // 2])\n",
    "Lab2_helper.test_based_feature_importance(Xftrain,yftrain,Xftest,yftest)"
   ]
  },
  {
   "cell_type": "code",
   "execution_count": null,
   "metadata": {},
   "outputs": [],
   "source": [
    "Lab2_helper.train_based_feature_importance(Xftrain,yftrain,Xftest,yftest)"
   ]
  },
  {
   "cell_type": "code",
   "execution_count": null,
   "metadata": {},
   "outputs": [],
   "source": []
  }
 ],
 "metadata": {
  "kernelspec": {
   "display_name": "Python 3",
   "language": "python",
   "name": "python3"
  },
  "language_info": {
   "codemirror_mode": {
    "name": "ipython",
    "version": 3
   },
   "file_extension": ".py",
   "mimetype": "text/x-python",
   "name": "python",
   "nbconvert_exporter": "python",
   "pygments_lexer": "ipython3",
   "version": "3.7.3"
  }
 },
 "nbformat": 4,
 "nbformat_minor": 4
}
