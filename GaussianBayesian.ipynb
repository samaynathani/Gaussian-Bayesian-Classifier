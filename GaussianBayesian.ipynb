{
 "cells": [
  {
   "cell_type": "markdown",
   "metadata": {},
   "source": [
    "# Gaussian Bayes Classifier"
   ]
  },
  {
   "cell_type": "markdown",
   "metadata": {
    "tags": []
   },
   "source": [
    "### Mastery Checkpoint 1  \n",
    "CSC 466, Winter 2022  \n",
    "Samay Nathani"
   ]
  },
  {
   "cell_type": "code",
   "execution_count": 11,
   "metadata": {},
   "outputs": [],
   "source": [
    "from pathlib import Path\n",
    "home = str(Path.home())"
   ]
  },
  {
   "cell_type": "code",
   "execution_count": 12,
   "metadata": {},
   "outputs": [
    {
     "name": "stdout",
     "output_type": "stream",
     "text": [
      "The autoreload extension is already loaded. To reload it, use:\n",
      "  %reload_ext autoreload\n"
     ]
    }
   ],
   "source": [
    "%load_ext autoreload\n",
    "%autoreload 2\n",
    "\n",
    "import Lab2_helper"
   ]
  },
  {
   "cell_type": "markdown",
   "metadata": {},
   "source": [
    "Import our dataset  \n",
    "I chose the [Palantir Stock Price Dataset from Kaggle](https://www.kaggle.com/kalilurrahman/palantir-stock-data-latest-and-updated)"
   ]
  },
  {
   "cell_type": "code",
   "execution_count": 13,
   "metadata": {
    "tags": []
   },
   "outputs": [],
   "source": [
    "import pandas as pd\n",
    "import numpy as np\n",
    "import math\n",
    "from scipy.stats import norm\n",
    "palantir = pd.read_csv(\n",
    "    f\"Palantir_stock_history.csv\"\n",
    ")"
   ]
  },
  {
   "cell_type": "markdown",
   "metadata": {},
   "source": [
    "Do some preprocessing like Lab 2"
   ]
  },
  {
   "cell_type": "code",
   "execution_count": 44,
   "metadata": {},
   "outputs": [
    {
     "data": {
      "text/html": [
       "<div>\n",
       "<style scoped>\n",
       "    .dataframe tbody tr th:only-of-type {\n",
       "        vertical-align: middle;\n",
       "    }\n",
       "\n",
       "    .dataframe tbody tr th {\n",
       "        vertical-align: top;\n",
       "    }\n",
       "\n",
       "    .dataframe thead th {\n",
       "        text-align: right;\n",
       "    }\n",
       "</style>\n",
       "<table border=\"1\" class=\"dataframe\">\n",
       "  <thead>\n",
       "    <tr style=\"text-align: right;\">\n",
       "      <th></th>\n",
       "      <th>Open</th>\n",
       "      <th>High</th>\n",
       "      <th>Low</th>\n",
       "      <th>Close</th>\n",
       "    </tr>\n",
       "  </thead>\n",
       "  <tbody>\n",
       "    <tr>\n",
       "      <th>0</th>\n",
       "      <td>10.0</td>\n",
       "      <td>11.0</td>\n",
       "      <td>9.0</td>\n",
       "      <td>10.0</td>\n",
       "    </tr>\n",
       "    <tr>\n",
       "      <th>1</th>\n",
       "      <td>10.0</td>\n",
       "      <td>10.0</td>\n",
       "      <td>9.0</td>\n",
       "      <td>9.0</td>\n",
       "    </tr>\n",
       "    <tr>\n",
       "      <th>2</th>\n",
       "      <td>9.0</td>\n",
       "      <td>9.0</td>\n",
       "      <td>9.0</td>\n",
       "      <td>9.0</td>\n",
       "    </tr>\n",
       "    <tr>\n",
       "      <th>3</th>\n",
       "      <td>9.0</td>\n",
       "      <td>9.0</td>\n",
       "      <td>9.0</td>\n",
       "      <td>9.0</td>\n",
       "    </tr>\n",
       "    <tr>\n",
       "      <th>4</th>\n",
       "      <td>9.0</td>\n",
       "      <td>10.0</td>\n",
       "      <td>9.0</td>\n",
       "      <td>10.0</td>\n",
       "    </tr>\n",
       "  </tbody>\n",
       "</table>\n",
       "</div>"
      ],
      "text/plain": [
       "   Open  High  Low  Close\n",
       "0  10.0  11.0  9.0   10.0\n",
       "1  10.0  10.0  9.0    9.0\n",
       "2   9.0   9.0  9.0    9.0\n",
       "3   9.0   9.0  9.0    9.0\n",
       "4   9.0  10.0  9.0   10.0"
      ]
     },
     "execution_count": 44,
     "metadata": {},
     "output_type": "execute_result"
    }
   ],
   "source": [
    "features = ['Open', 'High', 'Low', 'Close']\n",
    "palantir = palantir.loc[:,features]\n",
    "palantir['Open'] =  round(palantir['Open'])\n",
    "palantir['High'] = round(palantir['High'])\n",
    "palantir['Low'] =  round(palantir['Low'])\n",
    "palantir['Close'] = round(palantir['Close'])\n",
    "palantir.head()"
   ]
  },
  {
   "cell_type": "markdown",
   "metadata": {},
   "source": [
    "Defining the Gaussian Bayesian Classifier"
   ]
  },
  {
   "cell_type": "code",
   "execution_count": 45,
   "metadata": {},
   "outputs": [],
   "source": [
    "class GaussianBayes:\n",
    "    \n",
    "    def compute_priors(self, y):\n",
    "        value_counts = y.value_counts().sort_index()\n",
    "        total_values = len(y)\n",
    "        indexes = [y.name+\"=\"+str(v) for v in value_counts.index.tolist()]\n",
    "        priors = dict(zip(indexes, value_counts / total_values))\n",
    "        return priors\n",
    "    \n",
    "    def compute_gaussian(self, mean, stddev, x):\n",
    "        if stddev == 0:\n",
    "            return 1\n",
    "        exp = (((x-mean) / stddev)**2) * -0.5\n",
    "        denom = ((stddev) * math.sqrt(2 * math.pi))\n",
    "        return (math.e ** exp) / denom\n",
    "    \n",
    "    \n",
    "    # Since we are assuming a normal distribution, this is where we use the mean, std, and variance to calculate the class conditional probability. \n",
    "    def specific_class_conditional(self,x,xv,y,yv):\n",
    "\n",
    "        likelihoods = {}\n",
    "        priors = {}\n",
    "        denom = 0\n",
    "        \n",
    "        for uy in y.unique():\n",
    "            count = y.value_counts()[uy]\n",
    "            if count <= 1:\n",
    "                likelihoods[uy] = 0\n",
    "            else:\n",
    "                likelihoods[uy] = self.compute_gaussian(x.loc[y==uy].mean(), x.loc[y==uy].std(), xv)\n",
    "            \n",
    "            priors[uy] = count / sum(y.value_counts())\n",
    "            denom += (likelihoods[uy] * priors[uy])\n",
    "        if denom != 0:\n",
    "            return likelihoods[yv]*priors[yv] / denom\n",
    "        else:\n",
    "            return 0\n",
    "\n",
    "\n",
    "    def class_conditional(self,X,y):\n",
    "        probs = {}\n",
    "\n",
    "        for eachy in y.unique():\n",
    "            for col in X.columns:\n",
    "                for eachx in X[col].unique():\n",
    "                    probs[col + \"=\" + str(eachx) + \"|\" + y.name + \"=\" + str(eachy)] = self.specific_class_conditional(X[col], eachx, y, eachy)\n",
    "        return probs\n",
    "\n",
    "    def posteriors(self, probs,priors,x):\n",
    "        post_probs = {}\n",
    "        denom = 0\n",
    "        for k in priors.keys():\n",
    "            numerator = 1\n",
    "            postkey = \"\"\n",
    "            for idx in x.index:\n",
    "                postkey += idx + \"=\" + str(x[idx]) + \",\"\n",
    "                probkey = idx + \"=\" + str(x[idx]) + \"|\" + k\n",
    "                if probkey not in probs:\n",
    "                    numerator *= 0\n",
    "                else:\n",
    "                    numerator *= probs[probkey]\n",
    "            numerator*=priors[k]\n",
    "            post_probs[k + \"|\" + postkey[:-1]] = numerator\n",
    "            denom+=numerator\n",
    "        for k, v in post_probs.items():\n",
    "            if denom != 0:\n",
    "                post_probs[k] = v / denom\n",
    "            else:\n",
    "                post_probs[k] = 1 / len(list(priors.keys()))\n",
    "        return post_probs\n",
    "    \n",
    "    \n",
    "    def train_test_split(self, X,y,test_frac=0.5):\n",
    "        inxs = list(range(len(y)))\n",
    "        np.random.shuffle(inxs)\n",
    "        X = X.iloc[inxs,:]\n",
    "        y = y.iloc[inxs]\n",
    "        xsplit = round(len(X)*test_frac)\n",
    "        ysplit = round(len(y)*test_frac)\n",
    "        Xtrain,ytrain,Xtest,ytest = X.iloc[:xsplit, :], y.iloc[:ysplit], X.iloc[xsplit:, :], y.iloc[ysplit:]\n",
    "        return Xtrain,ytrain,Xtest,ytest\n",
    "\n",
    "    def get_accuracy(self, Xtrain,ytrain,Xtest,ytest):\n",
    "        probs = self.class_conditional(Xtrain, ytrain)\n",
    "        priors = self.compute_priors(ytrain)\n",
    "        ypred = []\n",
    "        for idx in range(len(Xtest)):\n",
    "            posterior = self.posteriors(probs, priors, Xtest.iloc[idx])\n",
    "            k = max(posterior, key=posterior.get)\n",
    "            pred = float((''.join(k.split(\"|\")[0])).split(\"=\")[-1])\n",
    "            ypred.append(pred)\n",
    "        ypred = np.array(ypred)\n",
    "        correct = np.sum(ypred == ytest.to_numpy())\n",
    "        accuracy = correct / len(ytest)\n",
    "        return accuracy\n"
   ]
  },
  {
   "cell_type": "code",
   "execution_count": 46,
   "metadata": {},
   "outputs": [],
   "source": [
    "gb = GaussianBayes()"
   ]
  },
  {
   "cell_type": "code",
   "execution_count": 47,
   "metadata": {},
   "outputs": [],
   "source": [
    "X = palantir.drop(\"Close\", axis=1)\n",
    "y = palantir[\"Close\"]"
   ]
  },
  {
   "cell_type": "markdown",
   "metadata": {},
   "source": [
    "Accuracy of Gaussian-Bayes Classifier"
   ]
  },
  {
   "cell_type": "code",
   "execution_count": 49,
   "metadata": {},
   "outputs": [
    {
     "data": {
      "text/plain": [
       "0.475177304964539"
      ]
     },
     "execution_count": 49,
     "metadata": {},
     "output_type": "execute_result"
    }
   ],
   "source": [
    "np.random.seed(2)\n",
    "Xtrain,ytrain,Xtest,ytest = gb.train_test_split(X,y)\n",
    "accuracy = gb.get_accuracy(Xtrain,ytrain,Xtest,ytest)\n",
    "accuracy"
   ]
  },
  {
   "cell_type": "markdown",
   "metadata": {},
   "source": [
    "Accuracy of Lab 2 classifier"
   ]
  },
  {
   "cell_type": "code",
   "execution_count": null,
   "metadata": {},
   "outputs": [],
   "source": [
    "np.random.seed(2)\n",
    "Xtrain,ytrain,Xtest,ytest = Lab2_helper.train_test_split(X,y)\n",
    "accuracy = Lab2_helper.exercise_6(Xtrain,ytrain,Xtest,ytest)\n",
    "accuracy"
   ]
  },
  {
   "cell_type": "code",
   "execution_count": null,
   "metadata": {},
   "outputs": [],
   "source": []
  }
 ],
 "metadata": {
  "kernelspec": {
   "display_name": "Python 3",
   "language": "python",
   "name": "python3"
  },
  "language_info": {
   "codemirror_mode": {
    "name": "ipython",
    "version": 3
   },
   "file_extension": ".py",
   "mimetype": "text/x-python",
   "name": "python",
   "nbconvert_exporter": "python",
   "pygments_lexer": "ipython3",
   "version": "3.7.3"
  }
 },
 "nbformat": 4,
 "nbformat_minor": 4
}
